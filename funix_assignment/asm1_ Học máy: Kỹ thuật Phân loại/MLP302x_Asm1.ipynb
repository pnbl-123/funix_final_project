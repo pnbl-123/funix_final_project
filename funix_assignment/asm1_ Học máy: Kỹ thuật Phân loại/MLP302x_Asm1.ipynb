{
 "cells": [
  {
   "cell_type": "markdown",
   "metadata": {
    "id": "wsALKyLw3pe1"
   },
   "source": [
    "# All Regression Notebook\n",
    "## Load dữ liệu\n",
    "Khai báo và load thư viện, sau đó load tập dữ liệu. Do tập dữ liệu không chứa tên cột nên chúng ta cần thêm nó vào bằng cách sử dụng list Python thủ công. \n",
    "\n",
    "Chúng ta có `all_train_data` và `all_test_data` đã được nối vào `DataFrame` tương ứng."
   ]
  },
  {
   "cell_type": "code",
   "execution_count": 20,
   "metadata": {
    "colab": {
     "base_uri": "https://localhost:8080/",
     "height": 326
    },
    "id": "KsgMGTek3pe2",
    "outputId": "b5a85440-c443-4f92-c5c9-a6c151ac57ed"
   },
   "outputs": [
    {
     "name": "stdout",
     "output_type": "stream",
     "text": [
      "Train sets size: 2211246\n",
      "Train sets size: 4390848\n",
      "Train sets size: 6539292\n",
      "Train sets size: 8662896\n",
      "Train sets size: 10747620\n"
     ]
    },
    {
     "data": {
      "text/html": [
       "<div>\n",
       "<style scoped>\n",
       "    .dataframe tbody tr th:only-of-type {\n",
       "        vertical-align: middle;\n",
       "    }\n",
       "\n",
       "    .dataframe tbody tr th {\n",
       "        vertical-align: top;\n",
       "    }\n",
       "\n",
       "    .dataframe thead th {\n",
       "        text-align: right;\n",
       "    }\n",
       "</style>\n",
       "<table border=\"1\" class=\"dataframe\">\n",
       "  <thead>\n",
       "    <tr style=\"text-align: right;\">\n",
       "      <th></th>\n",
       "      <th>Popularity</th>\n",
       "      <th>Check-in</th>\n",
       "      <th>Activities</th>\n",
       "      <th>Category</th>\n",
       "      <th>F_1</th>\n",
       "      <th>F_2</th>\n",
       "      <th>F_3</th>\n",
       "      <th>F_4</th>\n",
       "      <th>F_5</th>\n",
       "      <th>F_6</th>\n",
       "      <th>...</th>\n",
       "      <th>Post_date_7</th>\n",
       "      <th>Base_date_1</th>\n",
       "      <th>Base_date_2</th>\n",
       "      <th>Base_date_3</th>\n",
       "      <th>Base_date_4</th>\n",
       "      <th>Base_date_5</th>\n",
       "      <th>Base_date_6</th>\n",
       "      <th>Base_date_7</th>\n",
       "      <th>Span count</th>\n",
       "      <th>bias</th>\n",
       "    </tr>\n",
       "  </thead>\n",
       "  <tbody>\n",
       "    <tr>\n",
       "      <th>0</th>\n",
       "      <td>634995</td>\n",
       "      <td>0</td>\n",
       "      <td>463</td>\n",
       "      <td>1</td>\n",
       "      <td>0.0</td>\n",
       "      <td>806.0</td>\n",
       "      <td>11.291045</td>\n",
       "      <td>1.0</td>\n",
       "      <td>70.495138</td>\n",
       "      <td>0.0</td>\n",
       "      <td>...</td>\n",
       "      <td>0</td>\n",
       "      <td>0</td>\n",
       "      <td>0</td>\n",
       "      <td>0</td>\n",
       "      <td>0</td>\n",
       "      <td>0</td>\n",
       "      <td>0</td>\n",
       "      <td>1</td>\n",
       "      <td>0</td>\n",
       "      <td>1</td>\n",
       "    </tr>\n",
       "    <tr>\n",
       "      <th>1</th>\n",
       "      <td>634995</td>\n",
       "      <td>0</td>\n",
       "      <td>463</td>\n",
       "      <td>1</td>\n",
       "      <td>0.0</td>\n",
       "      <td>806.0</td>\n",
       "      <td>11.291045</td>\n",
       "      <td>1.0</td>\n",
       "      <td>70.495138</td>\n",
       "      <td>0.0</td>\n",
       "      <td>...</td>\n",
       "      <td>0</td>\n",
       "      <td>0</td>\n",
       "      <td>0</td>\n",
       "      <td>0</td>\n",
       "      <td>0</td>\n",
       "      <td>0</td>\n",
       "      <td>1</td>\n",
       "      <td>0</td>\n",
       "      <td>0</td>\n",
       "      <td>1</td>\n",
       "    </tr>\n",
       "    <tr>\n",
       "      <th>2</th>\n",
       "      <td>634995</td>\n",
       "      <td>0</td>\n",
       "      <td>463</td>\n",
       "      <td>1</td>\n",
       "      <td>0.0</td>\n",
       "      <td>806.0</td>\n",
       "      <td>11.291045</td>\n",
       "      <td>1.0</td>\n",
       "      <td>70.495138</td>\n",
       "      <td>0.0</td>\n",
       "      <td>...</td>\n",
       "      <td>0</td>\n",
       "      <td>0</td>\n",
       "      <td>0</td>\n",
       "      <td>0</td>\n",
       "      <td>0</td>\n",
       "      <td>0</td>\n",
       "      <td>0</td>\n",
       "      <td>1</td>\n",
       "      <td>0</td>\n",
       "      <td>1</td>\n",
       "    </tr>\n",
       "    <tr>\n",
       "      <th>3</th>\n",
       "      <td>634995</td>\n",
       "      <td>0</td>\n",
       "      <td>463</td>\n",
       "      <td>1</td>\n",
       "      <td>0.0</td>\n",
       "      <td>806.0</td>\n",
       "      <td>11.291045</td>\n",
       "      <td>1.0</td>\n",
       "      <td>70.495138</td>\n",
       "      <td>0.0</td>\n",
       "      <td>...</td>\n",
       "      <td>0</td>\n",
       "      <td>0</td>\n",
       "      <td>1</td>\n",
       "      <td>0</td>\n",
       "      <td>0</td>\n",
       "      <td>0</td>\n",
       "      <td>0</td>\n",
       "      <td>0</td>\n",
       "      <td>0</td>\n",
       "      <td>1</td>\n",
       "    </tr>\n",
       "    <tr>\n",
       "      <th>4</th>\n",
       "      <td>634995</td>\n",
       "      <td>0</td>\n",
       "      <td>463</td>\n",
       "      <td>1</td>\n",
       "      <td>0.0</td>\n",
       "      <td>806.0</td>\n",
       "      <td>11.291045</td>\n",
       "      <td>1.0</td>\n",
       "      <td>70.495138</td>\n",
       "      <td>0.0</td>\n",
       "      <td>...</td>\n",
       "      <td>0</td>\n",
       "      <td>0</td>\n",
       "      <td>0</td>\n",
       "      <td>0</td>\n",
       "      <td>1</td>\n",
       "      <td>0</td>\n",
       "      <td>0</td>\n",
       "      <td>0</td>\n",
       "      <td>0</td>\n",
       "      <td>1</td>\n",
       "    </tr>\n",
       "  </tbody>\n",
       "</table>\n",
       "<p>5 rows × 55 columns</p>\n",
       "</div>"
      ],
      "text/plain": [
       "   Popularity  Check-in  Activities  Category  F_1    F_2        F_3  F_4  \\\n",
       "0      634995         0         463         1  0.0  806.0  11.291045  1.0   \n",
       "1      634995         0         463         1  0.0  806.0  11.291045  1.0   \n",
       "2      634995         0         463         1  0.0  806.0  11.291045  1.0   \n",
       "3      634995         0         463         1  0.0  806.0  11.291045  1.0   \n",
       "4      634995         0         463         1  0.0  806.0  11.291045  1.0   \n",
       "\n",
       "         F_5  F_6  ...  Post_date_7  Base_date_1  Base_date_2  Base_date_3  \\\n",
       "0  70.495138  0.0  ...            0            0            0            0   \n",
       "1  70.495138  0.0  ...            0            0            0            0   \n",
       "2  70.495138  0.0  ...            0            0            0            0   \n",
       "3  70.495138  0.0  ...            0            0            1            0   \n",
       "4  70.495138  0.0  ...            0            0            0            0   \n",
       "\n",
       "   Base_date_4  Base_date_5  Base_date_6  Base_date_7  Span count  bias  \n",
       "0            0            0            0            1           0     1  \n",
       "1            0            0            1            0           0     1  \n",
       "2            0            0            0            1           0     1  \n",
       "3            0            0            0            0           0     1  \n",
       "4            1            0            0            0           0     1  \n",
       "\n",
       "[5 rows x 55 columns]"
      ]
     },
     "execution_count": 20,
     "metadata": {},
     "output_type": "execute_result"
    }
   ],
   "source": [
    "import pandas\n",
    "import numpy as np\n",
    "import matplotlib.pyplot as plt\n",
    "%matplotlib inline\n",
    "\n",
    "columns_name = [\"Popularity\", \"Check-in\", \"Activities\", \"Category\"] \\\n",
    "            + [\"F_{:d}\".format(i) for i in range(1, 26)] \\\n",
    "            + [\"CC{:d}\".format(i) for i in range(1, 6)] \\\n",
    "            + [\"Base time\", \"Post length\", \"Post count\", \"Post promotion\", \"Span time\"] \\\n",
    "            + [\"Post_date_{:d}\".format(i) for i in range(1, 8)] \\\n",
    "            + [\"Base_date_{:d}\".format(i) for i in range(1, 8)] \\\n",
    "            + [\"Span count\"]\n",
    "all_train_data = [pandas.read_csv(\"./Dataset/Training/Features_Variant_{:d}.csv\".format(d), header=None) for d in range(1, 6)]\n",
    "for data in all_train_data:\n",
    "    print(\"Train sets size: {:d}\".format(data.size))\n",
    "# Viết code nối dữ liệu huấn luyện\n",
    "train_data = pandas.concat(all_train_data,ignore_index=True)\n",
    "train_data.columns = columns_name\n",
    "\n",
    "all_test_data = [pandas.read_csv(\"./Dataset/Testing/TestSet/Test_Case_{:d}.csv\".format(d), header=None) for d in range(1, 10)]\n",
    "# Viết code nối dữ liệu kiểm tra\n",
    "test_data = pandas.concat(all_test_data,ignore_index=True)\n",
    "test_data.columns = columns_name\n",
    "\n",
    "train_data[\"bias\"] = 1\n",
    "test_data[\"bias\"] = 1\n",
    "\n",
    "train_data.head()"
   ]
  },
  {
   "cell_type": "markdown",
   "metadata": {
    "id": "gDfCdXgd3pe_"
   },
   "source": [
    "## Lựa chọn hạng mục phụ\n",
    "Cột Category chứa các index bất kỳ của hạng mục dữ liệu liên quan tới bản chất của chính bài đăng. Để đơn giản, chúng ta sẽ sử dụng hạng mục có lượng dữ liệu lớn nhất để thực hiện Hồi quy Tuyến tính.\n",
    "\n",
    "Tìm và lựa chọn hạng mục có nhiều bản ghi nhất sử dụng pandas. Lưu nó trong biến `largest_category`"
   ]
  },
  {
   "cell_type": "code",
   "execution_count": 21,
   "metadata": {
    "colab": {
     "base_uri": "https://localhost:8080/"
    },
    "id": "ZRlw6ulC3pfB",
    "outputId": "bdc532af-0451-45b0-cc24-4e5bd991f874"
   },
   "outputs": [
    {
     "data": {
      "text/plain": [
       "9"
      ]
     },
     "execution_count": 21,
     "metadata": {},
     "output_type": "execute_result"
    }
   ],
   "source": [
    "# Viết code ở đây:\n",
    "df_groupby = train_data.groupby(['Category'], sort=False).size().reset_index(name='Count')\n",
    "max_sample = df_groupby['Count'].max()\n",
    "largest_category = df_groupby['Category'].loc[df_groupby['Count'] == max_sample].iloc[0]\n",
    "largest_category "
   ]
  },
  {
   "cell_type": "code",
   "execution_count": 22,
   "metadata": {
    "id": "2yBrJGjv3pfH"
   },
   "outputs": [],
   "source": [
    "# Phân hạng các mô hình\n",
    "train_data = train_data.loc[train_data['Category'] == largest_category].drop('Category', axis=1)\n",
    "test_data = test_data.loc[test_data['Category'] == largest_category].drop('Category', axis=1)\n",
    "\n",
    "label = \"Span count\"\n",
    "features = [col for col in train_data.columns if col != label]\n",
    "\n",
    "train_features = train_data[ features ]\n",
    "train_labels = train_data[ label ]\n",
    "test_features = test_data[ features ]\n",
    "test_labels = test_data[ label ]"
   ]
  },
  {
   "cell_type": "markdown",
   "metadata": {
    "id": "luuprw_n3pfM"
   },
   "source": [
    "## Tương quan cơ bản\n",
    "Chúng ta sẽ vẽ ma trận tương quan giữa các biến CC. Tương quan rất hữu ích để xem liệu các đặc trưng có kết nối quá chặt chẽ không -  chúng ta không muốn chúng cùng nhau vì chúng sẽ tạo ra nhiễu giả gây overfit mô hình."
   ]
  },
  {
   "cell_type": "code",
   "execution_count": 23,
   "metadata": {
    "colab": {
     "base_uri": "https://localhost:8080/",
     "height": 395
    },
    "id": "B_FBwjw03pfO",
    "outputId": "d9357919-9989-46c1-a833-d95cc7a7a1f7"
   },
   "outputs": [
    {
     "data": {
      "text/plain": [
       "<AxesSubplot:>"
      ]
     },
     "execution_count": 23,
     "metadata": {},
     "output_type": "execute_result"
    },
    {
     "data": {
      "image/png": "[encoded data removed]",
      "text/plain": [
       "<Figure size 720x432 with 2 Axes>"
      ]
     },
     "metadata": {
      "needs_background": "light"
     },
     "output_type": "display_data"
    }
   ],
   "source": [
    "# Viết code ở đây:\n",
    "import seaborn as sns\n",
    "options = ['CC1','CC2','CC3','CC4','CC5']\n",
    "corr = train_features[options].corr()\n",
    "plt.figure(figsize=(10,6))\n",
    "sns.heatmap(corr, cmap=plt.cm.Reds, annot=True)\n",
    "\n"
   ]
  },
  {
   "cell_type": "markdown",
   "metadata": {
    "id": "U7g4fYvJ3pfU"
   },
   "source": [
    "## Xây dựng mô hình Hồi quy\n",
    "\n",
    "__Nhiệm vụ của chúng ta là dự đoán số lượng bình luận bài đăng sẽ nhận được (cột \"Span count\")__ <br>\n",
    "\"Span time\" thì cần thiết trong khi tất cả các cột khác tùy chọn. <br>\n",
    "Thử mô hình Hồi quy đa biến đơn giản chỉ có các đặc trưng cơ bản: <br>\n",
    "[\"Popularity\", \"Base time\", \"Post length\", \"Post count\", \"Span time\", \"bias\"]. <br>\n",
    "\n",
    "In ra hệ số MSE từ sklearn hoặc RSS từ khóa học cho cả tập huấn luyện và tập kiểm tra."
   ]
  },
  {
   "cell_type": "code",
   "execution_count": 24,
   "metadata": {
    "colab": {
     "base_uri": "https://localhost:8080/"
    },
    "id": "wawBZN663pfV",
    "outputId": "230151d7-6abd-43f3-e73e-454b5b93fcfe"
   },
   "outputs": [
    {
     "name": "stdout",
     "output_type": "stream",
     "text": [
      "CPU times: user 3 µs, sys: 0 ns, total: 3 µs\n",
      "Wall time: 7.63 µs\n",
      "MSE on training: 1689.5665; MSE on test: 5340.5897\n"
     ]
    }
   ],
   "source": [
    "# Viết code ở đây:\n",
    "%time\n",
    "from sklearn.linear_model import LinearRegression\n",
    "from sklearn.metrics import mean_squared_error\n",
    "from sklearn.preprocessing import StandardScaler\n",
    "\n",
    "model_1_features = [\"Popularity\", \"Base time\", \"Post length\", \"Post count\", \"Span time\", \"bias\"]\n",
    "\n",
    "scaler = StandardScaler()\n",
    "train_features_v1 = scaler.fit_transform(train_features[model_1_features].values)\n",
    "test_features_v1 = scaler.transform(test_features[model_1_features].values)\n",
    "\n",
    "lin_reg = LinearRegression()\n",
    "lin_reg.fit(train_features_v1, train_labels)\n",
    "\n",
    "train_mse_score = mean_squared_error(train_labels, lin_reg.predict(train_features_v1))\n",
    "lin_predict = lin_reg.predict(test_features_v1)\n",
    "test_mse_score = mean_squared_error(test_labels, lin_predict)\n",
    "print(\"MSE on training: {:.4f}; MSE on test: {:.4f}\".format(train_mse_score, test_mse_score))\n"
   ]
  },
  {
   "cell_type": "markdown",
   "metadata": {
    "id": "wQpTJVPA3pfb"
   },
   "source": [
    "### Hãy thử cải thiện với nhiều đặc trưng hơn\n",
    "Không phải mô hình tốt nhất chúng ta có thể sử dụng. Chúng ta có thể thử thêm nhiều đặc trưng liên quan. <br>Nối tất cả các thuộc tính CC vào các đặc trưng và thử lại với cùng số liệu."
   ]
  },
  {
   "cell_type": "code",
   "execution_count": 25,
   "metadata": {
    "colab": {
     "base_uri": "https://localhost:8080/"
    },
    "id": "pgRc-PxW3pfc",
    "outputId": "11d6b6eb-1da2-4161-d64b-09baf8573fe2"
   },
   "outputs": [
    {
     "name": "stdout",
     "output_type": "stream",
     "text": [
      "CPU times: user 4 µs, sys: 0 ns, total: 4 µs\n",
      "Wall time: 10.3 µs\n",
      "MSE on training: 1535.1723; MSE on test: 3923.2827\n"
     ]
    }
   ],
   "source": [
    "# Viết code ở đây:\n",
    "%time\n",
    "model_2_features = model_1_features + ['CC1','CC2','CC3','CC4','CC5']\n",
    "scaler = StandardScaler()\n",
    "train_features_v2 = scaler.fit_transform(train_features[model_2_features].values)\n",
    "test_features_v2 = scaler.transform(test_features[model_2_features].values)\n",
    "lin_reg_v2 = LinearRegression()\n",
    "lin_reg_v2.fit(train_features_v2, train_labels)\n",
    "\n",
    "train_mse_score = mean_squared_error(train_labels, lin_reg_v2.predict(train_features_v2))\n",
    "lin_predict = lin_reg_v2.predict(test_features_v2)\n",
    "test_mse_score = mean_squared_error(test_labels, lin_predict)\n",
    "print(\"MSE on training: {:.4f}; MSE on test: {:.4f}\".format(train_mse_score, test_mse_score))\n"
   ]
  },
  {
   "cell_type": "markdown",
   "metadata": {
    "id": "bxjlSr703pfi"
   },
   "source": [
    "Bài học rút ra: Tối ưu hóa sớm hiếm khi hữu ích. \n",
    "\n",
    "## Giải quyết overfit\n",
    "### Áp dụng cách giải cho overfit\n",
    "\n",
    "Sự khác biệt về hệ số huấn luyện và kiểm tra chỉ ra mô hình có thể overfitting. Hãy thử sửa chữa. Mở rộng hồi quy [RidgeCV](https://scikit-learn.org/stable/modules/generated/sklearn.linear_model.RidgeCV.html) (cv = 10) với alpha dọc theo logspace giữa 0 và 10, ghi nhận giá trị có chất lượng tốt nhất thành biến `best_alpha`, và *có thể tùy chọn vẽ một đồ thị cho độ lớn của các hệ số*."
   ]
  },
  {
   "cell_type": "code",
   "execution_count": 47,
   "metadata": {
    "id": "XZwKff9TtOrS"
   },
   "outputs": [
    {
     "name": "stdout",
     "output_type": "stream",
     "text": [
      "CPU times: user 3 µs, sys: 0 ns, total: 3 µs\n",
      "Wall time: 7.15 µs\n"
     ]
    }
   ],
   "source": [
    "# Viết code ở đây:\n",
    "%time\n",
    "from sklearn.linear_model import RidgeCV\n",
    "\n",
    "alphas = np.logspace(0, 10)\n",
    "errors = []\n",
    "coefs = []\n",
    "for a in alphas:\n",
    "  ridge_cv_v1 = RidgeCV(alphas =[a], cv=10)\n",
    "  ridge_cv_v1.fit(train_features_v2, train_labels)\n",
    "  coefs.append(ridge_cv_v1.coef_)\n",
    "  errors.append(mean_squared_error(test_labels, ridge_cv_v1.predict(test_features_v2)))\n",
    "\n",
    "best_alpha = alphas[np.argmin(errors)]"
   ]
  },
  {
   "cell_type": "code",
   "execution_count": 48,
   "metadata": {
    "colab": {
     "base_uri": "https://localhost:8080/",
     "height": 299
    },
    "id": "WLYZ3YYXiOhr",
    "outputId": "8c4f5b1b-e1c3-4b8f-884b-3bf2757d3594"
   },
   "outputs": [
    {
     "data": {
      "image/png": "[encoded data removed]",
      "text/plain": [
       "<Figure size 432x288 with 1 Axes>"
      ]
     },
     "metadata": {
      "needs_background": "light"
     },
     "output_type": "display_data"
    }
   ],
   "source": [
    "ax = plt.gca()\n",
    "ax.plot(alphas, coefs)\n",
    "ax.set_xscale(\"log\")\n",
    "# ax.set_xlim(ax.get_xlim()[::-1]) #reverse\n",
    "plt.xlabel(\"alpha\")\n",
    "plt.ylabel(\"weights\")\n",
    "plt.title(\"Ridge coefficients as a function of the regularization\")\n",
    "plt.axis(\"tight\")\n",
    "plt.show()"
   ]
  },
  {
   "cell_type": "code",
   "execution_count": 49,
   "metadata": {
    "colab": {
     "base_uri": "https://localhost:8080/"
    },
    "id": "ybVTywymMn-X",
    "outputId": "0b27a471-e19b-460d-819f-cbbb467961e9"
   },
   "outputs": [
    {
     "name": "stdout",
     "output_type": "stream",
     "text": [
      "MSE on training: 1575.9492; MSE on test: 3760.7190\n"
     ]
    }
   ],
   "source": [
    "# ridge_cv_tuned: dung best alpha co duoc sau tim kiem bang RidgeCV\n",
    "ridge_cv_tuned = RidgeCV(alphas=[best_alpha], cv=10)\n",
    "ridge_cv_tuned.fit(train_features_v2,train_labels)\n",
    "test_predictions = ridge_cv_tuned.predict(test_features_v2)\n",
    "\n",
    "test_mse_score = mean_squared_error(test_labels, test_predictions)\n",
    "train_mse_score = mean_squared_error(train_labels, ridge_cv_tuned.predict(train_features_v2))\n",
    "print(\"MSE on training: {:.4f}; MSE on test: {:.4f}\".format(train_mse_score, test_mse_score))"
   ]
  },
  {
   "cell_type": "markdown",
   "metadata": {
    "id": "b1EfkDro3pfq"
   },
   "source": [
    "### Thử Hồi quy RidgeCV trên mọi cột\n",
    "Nó đã hoạt động, nhưng chúng ta cần tự hỏi liệu có tiếp tục sử dụng tập đặc trưng không hoàn thiện thay vì một tập hợp tối ưu nữa không. Mở rộng các đặc trưng cho tất cả các cột trừ nhãn được chỉ định. Hãy chạy và xem điều gì sẽ xảy ra."
   ]
  },
  {
   "cell_type": "code",
   "execution_count": 29,
   "metadata": {
    "colab": {
     "base_uri": "https://localhost:8080/"
    },
    "id": "wN4A7SLx3pfr",
    "outputId": "32b66ff8-55fb-4b31-b3f9-969d3a909401"
   },
   "outputs": [
    {
     "name": "stdout",
     "output_type": "stream",
     "text": [
      "CPU times: user 1 µs, sys: 0 ns, total: 1 µs\n",
      "Wall time: 5.25 µs\n",
      "MSE on training: 1556.3625; MSE on test: 3892.1797\n"
     ]
    }
   ],
   "source": [
    "# Viết code ở đây:\n",
    "%time\n",
    "from sklearn.linear_model import RidgeCV\n",
    "from sklearn.preprocessing import StandardScaler\n",
    "\n",
    "label = \"Span count\"\n",
    "features = [col for col in train_data.columns if col != label]\n",
    "\n",
    "train_features = train_data[ features ]\n",
    "train_labels = train_data[ label ]\n",
    "test_features = test_data[ features ]\n",
    "test_labels = test_data[ label ]\n",
    "\n",
    "scaler = StandardScaler()\n",
    "\n",
    "train_features = scaler.fit_transform(train_features.values)\n",
    "test_features = scaler.transform(test_features.values)\n",
    "\n",
    "multi_model = RidgeCV(alphas=[best_alpha], cv=10)\n",
    "multi_model.fit(train_features,train_labels)\n",
    "test_predictions = multi_model.predict(test_features)\n",
    "\n",
    "test_mse_score = mean_squared_error(test_labels, test_predictions)\n",
    "train_mse_score = mean_squared_error(train_labels, multi_model.predict(train_features))\n",
    "print(\"MSE on training: {:.4f}; MSE on test: {:.4f}\".format(train_mse_score, test_mse_score))"
   ]
  },
  {
   "cell_type": "markdown",
   "metadata": {
    "id": "a4BoQx053pfx"
   },
   "source": [
    "## Lựa chọn đặc trưng\n",
    "### Áp dụng LASSO\n",
    "Chúng ta có thể cắt tỉa các đặc trưng sử dụng những gì đã học. Lần này sẽ ghi lại các đặc trưng đã chọn của [LassoCV](https://scikit-learn.org/stable/modules/generated/sklearn.linear_model.LassoCV.html) (cv = 10) sử dụng biến `lasso_selected_features`, và <i>có thể tùy chọn vẽ một đồ thị giữa số lượng đặc trưng đã loại và các giá trị alpha</i>."
   ]
  },
  {
   "cell_type": "code",
   "execution_count": 41,
   "metadata": {
    "colab": {
     "base_uri": "https://localhost:8080/",
     "height": 495
    },
    "id": "ZBiQAzNu3pfy",
    "outputId": "93cfc429-e3b8-40a8-c3b6-112b9c46a062"
   },
   "outputs": [
    {
     "name": "stdout",
     "output_type": "stream",
     "text": [
      "CPU times: user 2 µs, sys: 0 ns, total: 2 µs\n",
      "Wall time: 5.72 µs\n",
      "MSE on training: 1522.9144; MSE on test: 4072.2761\n",
      "Features selected by SelectFromModel: Index(['CC2', 'Base time'], dtype='object')\n",
      "Features with coefficients shrank to zero:45\n"
     ]
    },
    {
     "data": {
      "image/png": "[encoded data removed]",
      "text/plain": [
       "<Figure size 648x504 with 1 Axes>"
      ]
     },
     "metadata": {
      "needs_background": "light"
     },
     "output_type": "display_data"
    }
   ],
   "source": [
    "# Viết code ở đây:\n",
    "%time\n",
    "from sklearn.linear_model import LassoCV, Lasso\n",
    "from sklearn.feature_selection import SelectFromModel\n",
    "from sklearn.pipeline import make_pipeline\n",
    "\n",
    "#recreate dataset\n",
    "label = \"Span count\"\n",
    "features = [col for col in train_data.columns if col != label]\n",
    "\n",
    "train_features = train_data[ features ]\n",
    "train_labels = train_data[ label ]\n",
    "test_features = test_data[ features ]\n",
    "test_labels = test_data[ label ]\n",
    "train_col_name = train_features.columns\n",
    "\n",
    "scaler = StandardScaler()\n",
    "train_features = scaler.fit_transform(train_features)\n",
    "test_features = scaler.transform(test_features)\n",
    "\n",
    "#params of model\n",
    "alphas = np.logspace(0, 10)\n",
    "lasso_cv_model = LassoCV(alphas= alphas,cv=10)\n",
    "lasso_cv_model.fit(train_features, train_labels)\n",
    "lasso_tuned = Lasso(alpha=lasso_cv_model.alpha_)\n",
    "lasso_tuned.fit(train_features, train_labels)\n",
    "\n",
    "y_predictions = lasso_tuned.predict(test_features)\n",
    "test_mse_score = mean_squared_error(test_labels, y_predictions)\n",
    "train_mse_score = mean_squared_error(train_labels, lasso_tuned.predict(train_features))\n",
    "print(\"MSE on training: {:.4f}; MSE on test: {:.4f}\".format(train_mse_score, test_mse_score))\n",
    "\n",
    "#choose threshold for selection, plot \n",
    "importance = np.abs(lasso_tuned.coef_)\n",
    "threshold = np.sort(importance)[-3] + 0.01\n",
    "sfm = SelectFromModel(lasso_tuned, threshold=threshold).fit(train_features, train_labels)\n",
    "lasso_selected_features = train_col_name[sfm.get_support()]\n",
    "print(f\"Features selected by SelectFromModel: {lasso_selected_features}\")\n",
    "print('Features with coefficients shrank to zero:{}'.format(np.sum(sfm.estimator_.coef_==0)))\n",
    "\n",
    "coefs = pandas.DataFrame(\n",
    "   sfm.estimator_.coef_,\n",
    "   columns=['Coefficients'], index=train_col_name\n",
    ")\n",
    "\n",
    "coefs.plot(kind='barh', figsize=(9, 7))\n",
    "plt.title('Ridge model')\n",
    "plt.axvline(x=0, color='.5')\n",
    "plt.subplots_adjust(left=.3)"
   ]
  },
  {
   "cell_type": "code",
   "execution_count": 42,
   "metadata": {
    "colab": {
     "base_uri": "https://localhost:8080/"
    },
    "id": "huXsc4XD4dyF",
    "outputId": "a216b405-17f5-44e0-9401-75ea47a30034"
   },
   "outputs": [
    {
     "data": {
      "text/plain": [
       "['CC2', 'Base time']"
      ]
     },
     "execution_count": 42,
     "metadata": {},
     "output_type": "execute_result"
    }
   ],
   "source": [
    "lasso_selected_features = lasso_selected_features.tolist()\n",
    "lasso_selected_features"
   ]
  },
  {
   "cell_type": "markdown",
   "metadata": {
    "id": "7-alhAu13pf4"
   },
   "source": [
    "### Xây dựng mô hình chặt chẽ hơn với các đặc trưng đã chọn\n",
    "Khi thực hiện lựa chọn đặc trưng, chúng ta có thể sẽ phải thêm lại độ chệch vào list các đặc trưng. Hãy sử dụng các đặc trưng đã chọn để xây dựng mô hình và tính toán chất lượng dựa trên các chỉ số."
   ]
  },
  {
   "cell_type": "code",
   "execution_count": 43,
   "metadata": {
    "id": "lTLBNiVL3pf5"
   },
   "outputs": [],
   "source": [
    "if(\"bias\" not in lasso_selected_features):\n",
    "    lasso_selected_features.append('bias')\n"
   ]
  },
  {
   "cell_type": "code",
   "execution_count": 44,
   "metadata": {
    "colab": {
     "base_uri": "https://localhost:8080/"
    },
    "id": "SLNyIeow4D0t",
    "outputId": "34495ed1-74a1-4ffb-d355-f1bc431202ec"
   },
   "outputs": [
    {
     "name": "stdout",
     "output_type": "stream",
     "text": [
      "CPU times: user 7 µs, sys: 1 µs, total: 8 µs\n",
      "Wall time: 14.5 µs\n",
      "Train MSE: 1598.9992, Test MSE: 3783.8912\n"
     ]
    }
   ],
   "source": [
    "# Viết code ở đây:\n",
    "%time\n",
    "label = \"Span count\"\n",
    "features = [col for col in train_data.columns if col != label]\n",
    "\n",
    "train_features = train_data[ lasso_selected_features ]\n",
    "test_features = test_data[ lasso_selected_features ]\n",
    "\n",
    "scaler = StandardScaler()\n",
    "train_features = scaler.fit_transform(train_features)\n",
    "test_features = scaler.transform(test_features)\n",
    "\n",
    "multi_model = LinearRegression().fit(train_features, train_labels)\n",
    "\n",
    "test_predictions = multi_model.predict(test_features)\n",
    "mse_test_score = mean_squared_error(test_labels, test_predictions)\n",
    "mse_train_score = mean_squared_error(train_labels, multi_model.predict(train_features))\n",
    "print(\"Train MSE: {:.4f}, Test MSE: {:.4f}\".format(mse_train_score , mse_test_score))"
   ]
  },
  {
   "cell_type": "markdown",
   "metadata": {
    "id": "IPCIEyCG3pf-"
   },
   "source": [
    "## Kết hợp mọi thứ trên một mô hình\n",
    "LASSO đã thực hiện rất tốt, thu nhỏ các đặc trưng nhiễu và không cần thiết, tăng tốc độ tính toán. Bây giờ hãy kết hợp cả 2 kỹ thuật trước đó vào cùng một mô hình."
   ]
  },
  {
   "cell_type": "code",
   "execution_count": 45,
   "metadata": {
    "colab": {
     "base_uri": "https://localhost:8080/"
    },
    "id": "s8yDDo1pOELO",
    "outputId": "b2127197-628c-4346-fd8e-72d37cf43258"
   },
   "outputs": [
    {
     "name": "stdout",
     "output_type": "stream",
     "text": [
      "CPU times: user 5 µs, sys: 0 ns, total: 5 µs\n",
      "Wall time: 10.5 µs\n",
      "MSE on training: 1598.9992; MSE on test: 3783.8805\n"
     ]
    }
   ],
   "source": [
    "# Viết code ở đây:\n",
    "%time\n",
    "scaler = StandardScaler()\n",
    "\n",
    "label = \"Span count\"\n",
    "features = [col for col in train_data.columns if col != label]\n",
    "\n",
    "train_features = train_data[ lasso_selected_features ]\n",
    "test_features = test_data[ lasso_selected_features ]\n",
    "\n",
    "train_features = scaler.fit_transform(train_features)\n",
    "test_features = scaler.transform(test_features)\n",
    "\n",
    "alphas = np.logspace(0, 10)\n",
    "rid_cv_v2 = RidgeCV(alphas=alphas, cv=10).fit(train_features,train_labels)\n",
    "alpha_tuned = rid_cv_v2.alpha_\n",
    "rid_v2_tuned = RidgeCV(alphas=[alpha_tuned]).fit(train_features, train_labels)\n",
    "\n",
    "test_predictions = rid_v2_tuned.predict(test_features)\n",
    "\n",
    "test_mse_score = mean_squared_error(test_labels, test_predictions)\n",
    "train_mse_score = mean_squared_error(train_labels, rid_v2_tuned.predict(train_features))\n",
    "print(\"MSE on training: {:.4f}; MSE on test: {:.4f}\".format(train_mse_score, test_mse_score))"
   ]
  },
  {
   "cell_type": "markdown",
   "metadata": {
    "id": "GPKAOxhp3pgD"
   },
   "source": [
    "### Phân phối sai số bình phương\n",
    "Chúng ta hãy đưa ra kết luận; lưu ý thêm, hãy quan sát cách các sai số bình phương được phân phối."
   ]
  },
  {
   "cell_type": "code",
   "execution_count": null,
   "metadata": {
    "id": "ve-GpGS13pgE",
    "outputId": "39ff9df1-cf8b-4cc8-9ec0-f5704d239b0f"
   },
   "outputs": [
    {
     "data": {
      "image/png": "[encoded data removed]",
      "text/plain": [
       "<Figure size 432x288 with 2 Axes>"
      ]
     },
     "metadata": {
      "tags": []
     },
     "output_type": "display_data"
    }
   ],
   "source": [
    "train_square_errors = np.log( (train_labels - multi_model.predict(train_features)) ** 2 )\n",
    "test_square_errors = np.log( (test_labels - test_predictions) ** 2 )\n",
    "fig, (train_ax, test_ax) = plt.subplots(ncols=2, sharey=True)\n",
    "train_ax.hist(train_square_errors, bins=20, density=True)\n",
    "train_ax.set_xlabel(\"Train error (log)\")\n",
    "test_ax.set_xlabel(\"Test error (log)\")\n",
    "test_ax.hist(test_square_errors, bins=20, density=True)\n",
    "plt.show()"
   ]
  },
  {
   "cell_type": "code",
   "execution_count": 46,
   "metadata": {
    "colab": {
     "base_uri": "https://localhost:8080/",
     "height": 279
    },
    "id": "O5n3kW49Wj2w",
    "outputId": "a3782850-9737-4314-c268-40d15d7f5abb"
   },
   "outputs": [
    {
     "data": {
      "image/png": "[encoded data removed]",
      "text/plain": [
       "<Figure size 432x288 with 2 Axes>"
      ]
     },
     "metadata": {
      "needs_background": "light"
     },
     "output_type": "display_data"
    }
   ],
   "source": [
    "#code hoc vien\n",
    "train_square_errors = np.log( (train_labels - rid_v2_tuned.predict(train_features)) ** 2 )\n",
    "test_square_errors = np.log( (test_labels - test_predictions) ** 2 )\n",
    "fig, (train_ax, test_ax) = plt.subplots(ncols=2, sharey=True)\n",
    "train_ax.hist(train_square_errors, bins=20, density=True)\n",
    "train_ax.set_xlabel(\"Train error (log)\")\n",
    "test_ax.set_xlabel(\"Test error (log)\")\n",
    "test_ax.hist(test_square_errors, bins=20, density=True)\n",
    "plt.show()"
   ]
  },
  {
   "cell_type": "code",
   "execution_count": null,
   "metadata": {
    "id": "thbTtJRJW1aT"
   },
   "outputs": [],
   "source": []
  }
 ],
 "metadata": {
  "accelerator": "GPU",
  "colab": {
   "collapsed_sections": [],
   "machine_shape": "hm",
   "name": "Copy of asm1.ipynb",
   "provenance": []
  },
  "kernelspec": {
   "display_name": "Python 3 (ipykernel)",
   "language": "python",
   "name": "python3"
  },
  "language_info": {
   "codemirror_mode": {
    "name": "ipython",
    "version": 3
   },
   "file_extension": ".py",
   "mimetype": "text/x-python",
   "name": "python",
   "nbconvert_exporter": "python",
   "pygments_lexer": "ipython3",
   "version": "3.9.7"
  }
 },
 "nbformat": 4,
 "nbformat_minor": 1
}
